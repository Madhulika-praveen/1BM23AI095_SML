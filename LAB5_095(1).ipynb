{
 "cells": [
  {
   "cell_type": "code",
   "execution_count": 1,
   "id": "6c96d519",
   "metadata": {},
   "outputs": [
    {
     "name": "stdout",
     "output_type": "stream",
     "text": [
      "Contingency Table:\n",
      "VotingPreference  A  B\n",
      "Gender                \n",
      "Female            1  3\n",
      "Male              3  1\n",
      "\n",
      "Chi-Squared Statistic: 0.5\n",
      "P-Value: 0.47950012218695337\n",
      "Degrees of Freedom: 1\n",
      "Expected Frequencies:\n",
      " [[2. 2.]\n",
      " [2. 2.]]\n",
      "\n",
      "Conclusion: There is insufficient evidence to reject the null hypothesis.The variables are independent.\n"
     ]
    }
   ],
   "source": [
    "import pandas as pd\n",
    "from scipy.stats import chi2_contingency\n",
    "\n",
    "data = {\n",
    "    \"Gender\": [\"Male\", \"Female\", \"Male\", \"Female\", \"Male\", \"Female\", \"Male\", \"Female\"],\n",
    "    \"VotingPreference\": [\"A\", \"B\", \"A\", \"B\", \"A\", \"A\", \"B\", \"B\"]\n",
    "}\n",
    "\n",
    "# Create DataFrame\n",
    "df = pd.DataFrame(data)\n",
    "\n",
    "# Step ii: Create contingency table\n",
    "contingency_table = pd.crosstab(df[\"Gender\"], df[\"VotingPreference\"])\n",
    "print(\"Contingency Table:\")\n",
    "print(contingency_table)\n",
    "\n",
    "# Step iii: Perform Chi-Square Test\n",
    "chi2_stat, p_value, dof, expected = chi2_contingency(contingency_table)\n",
    "\n",
    "print(\"\\nChi-Squared Statistic:\", chi2_stat)\n",
    "print(\"P-Value:\", p_value)\n",
    "print(\"Degrees of Freedom:\", dof)\n",
    "print(\"Expected Frequencies:\\n\", expected)\n",
    "\n",
    "if p_value < 0.05:\n",
    "    print(\"\\nConclusion: There is evidence to reject the null hypothesis. The variables are not independent.\")\n",
    "else:\n",
    "    print(\"\\nConclusion: There is insufficient evidence to reject the null hypothesis.The variables are independent.\")\n"
   ]
  },
  {
   "cell_type": "code",
   "execution_count": null,
   "id": "79f91cd7",
   "metadata": {},
   "outputs": [],
   "source": []
  }
 ],
 "metadata": {
  "kernelspec": {
   "display_name": "Python 3 (ipykernel)",
   "language": "python",
   "name": "python3"
  },
  "language_info": {
   "codemirror_mode": {
    "name": "ipython",
    "version": 3
   },
   "file_extension": ".py",
   "mimetype": "text/x-python",
   "name": "python",
   "nbconvert_exporter": "python",
   "pygments_lexer": "ipython3",
   "version": "3.11.3"
  }
 },
 "nbformat": 4,
 "nbformat_minor": 5
}
